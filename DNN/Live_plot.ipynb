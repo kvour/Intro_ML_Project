{
 "cells": [
  {
   "cell_type": "code",
   "execution_count": 38,
   "metadata": {},
   "outputs": [],
   "source": [
    "import torch\n",
    "import torch.nn as nn\n",
    "import torch.nn.functional as F\n",
    "import torchvision.models as models\n",
    "from torchvision import datasets, transforms\n",
    "import scipy.io as sio\n",
    "import torch.optim as optim\n",
    "from torch.autograd import Variable\n",
    "from livelossplot import PlotLosses"
   ]
  },
  {
   "cell_type": "markdown",
   "metadata": {},
   "source": [
    "## Set parameters"
   ]
  },
  {
   "cell_type": "code",
   "execution_count": 39,
   "metadata": {
    "collapsed": true
   },
   "outputs": [],
   "source": [
    "batch_size = 64\n",
    "\n",
    "test_batch_size = 4449\n",
    "\n",
    "opt = 'Adam'\n",
    "\n",
    "epochs = 30\n",
    "\n",
    "lr =0.0005\n",
    "\n",
    "momentum = 0.5\n",
    "\n",
    "no_cuda = False\n",
    "\n",
    "seed = 1\n",
    "\n",
    "wait =20\n",
    "\n",
    "cuda = not no_cuda and torch.cuda.is_available()"
   ]
  },
  {
   "cell_type": "markdown",
   "metadata": {},
   "source": [
    "## Load data"
   ]
  },
  {
   "cell_type": "code",
   "execution_count": 40,
   "metadata": {
    "collapsed": true
   },
   "outputs": [],
   "source": [
    "tr_data = sio.loadmat('../data/sarcos_inv.mat')\n",
    "Ntr = tr_data['sarcos_inv'].shape[0]\n",
    "xtr = tr_data['sarcos_inv'][:,:21]\n",
    "ytr = tr_data['sarcos_inv'][:,21:]\n",
    "\n",
    "xtr = torch.from_numpy(xtr).float()\n",
    "ytr = torch.from_numpy(ytr).float()\n",
    "\n",
    "ts_data = sio.loadmat('../data/sarcos_inv_test.mat')\n",
    "Nts = ts_data['sarcos_inv_test'].shape[0]\n",
    "xts = ts_data['sarcos_inv_test'][:,:21]\n",
    "yts = ts_data['sarcos_inv_test'][:,21:]\n",
    "\n",
    "xts = torch.from_numpy(xts).float()\n",
    "yts = torch.from_numpy(yts).float()\n",
    "\n",
    "##\n",
    "trainset = torch.utils.data.TensorDataset(xtr,ytr)\n",
    "testset = torch.utils.data.TensorDataset(xts,yts)\n",
    "\n",
    "kwargs = {'num_workers': 1, 'pin_memory': True}\n",
    "train_loader = torch.utils.data.DataLoader(trainset, batch_size=batch_size, **kwargs)\n",
    "test_loader = torch.utils.data.DataLoader(testset, batch_size=test_batch_size, **kwargs)\n"
   ]
  },
  {
   "cell_type": "markdown",
   "metadata": {},
   "source": [
    "## Design DNN "
   ]
  },
  {
   "cell_type": "code",
   "execution_count": 41,
   "metadata": {},
   "outputs": [
    {
     "name": "stdout",
     "output_type": "stream",
     "text": [
      "\n",
      "---Model Information---\n",
      "Net: LinearNet(\n",
      "  (fc1): Linear(in_features=21, out_features=200, bias=True)\n",
      "  (fc2): Linear(in_features=200, out_features=500, bias=True)\n",
      "  (drop1): Dropout(p=0.5)\n",
      "  (fc3): Linear(in_features=500, out_features=500, bias=True)\n",
      "  (fc4): Linear(in_features=500, out_features=7, bias=True)\n",
      ")\n",
      "Use GPU: True\n"
     ]
    }
   ],
   "source": [
    "class LinearNet(nn.Module):\n",
    "    def __init__(self):\n",
    "        super(LinearNet, self).__init__()\n",
    "        self.fc1 = nn.Linear(21, 200)\n",
    "        self.fc2 = nn.Linear(200, 500)\n",
    "        self.drop1 = nn.Dropout(0.5)\n",
    "        self.fc3 = nn.Linear(500, 500)\n",
    "        self.fc4 = nn.Linear(500, 7)\n",
    "        \n",
    "    def forward(self, x):\n",
    "        x = x.view(-1, 21)\n",
    "        x = F.relu(self.fc1(x))\n",
    "        x = F.relu(self.fc2(x))\n",
    "        x = self.drop1(x)\n",
    "        x = F.relu(self.fc3(x))\n",
    "        return self.fc4(x)  \n",
    "\n",
    "\n",
    "model = LinearNet()\n",
    "\n",
    "\n",
    "\n",
    "if cuda:\n",
    "    model.cuda()\n",
    "    \n",
    "print('\\n---Model Information---')\n",
    "print('Net:',model)\n",
    "print('Use GPU:', cuda)\n"
   ]
  },
  {
   "cell_type": "markdown",
   "metadata": {},
   "source": [
    "## Set optimizer "
   ]
  },
  {
   "cell_type": "code",
   "execution_count": 42,
   "metadata": {},
   "outputs": [
    {
     "name": "stdout",
     "output_type": "stream",
     "text": [
      "\n",
      "---Training Details---\n",
      "batch size: 64\n",
      "seed number 1\n",
      "\n",
      "---Optimization Information---\n",
      "optimizer: <torch.optim.adam.Adam object at 0x7f99407105c0>\n",
      "lr: 0.0005\n"
     ]
    }
   ],
   "source": [
    "optimizer = None\n",
    "if opt =='SGD':\n",
    "    optimizer = optim.SGD(model.parameters(), lr=lr, momentum=momentum)\n",
    "elif opt =='Adam':\n",
    "    optimizer = optim.Adam(model.parameters(), lr=lr)\n",
    "elif opt =='Adadelta':\n",
    "    optimizer = optim.Adadelta(model.parameters())\n",
    "else:\n",
    "    print('Wrong name of optimizer')\n",
    "    \n",
    "print('\\n---Training Details---')\n",
    "print('batch size:',batch_size)\n",
    "print('seed number', seed)\n",
    "\n",
    "print('\\n---Optimization Information---')\n",
    "print('optimizer:', optimizer)\n",
    "if opt != 'Adadelta':\n",
    "\tprint('lr:', lr)\n"
   ]
  },
  {
   "cell_type": "markdown",
   "metadata": {},
   "source": [
    "## Train and plot live "
   ]
  },
  {
   "cell_type": "code",
   "execution_count": 43,
   "metadata": {},
   "outputs": [
    {
     "data": {
      "image/png": "[encoded data removed]",
      "text/plain": [
       "<matplotlib.figure.Figure at 0x7f994b4fbf98>"
      ]
     },
     "metadata": {},
     "output_type": "display_data"
    },
    {
     "name": "stdout",
     "output_type": "stream",
     "text": [
      "Test loss: 0.0004315189791143704\n"
     ]
    }
   ],
   "source": [
    "def train(epoch):\n",
    "    model.train()\n",
    "    train_loss = 0\n",
    "    for batch_idx, (data, target) in enumerate(train_loader):\n",
    "        data, target = data.cuda(), target.cuda()\n",
    "        data, target = Variable(data), Variable(target).float()\n",
    "        optimizer.zero_grad()\n",
    "        output = model(data)\n",
    "        loss = F.l1_loss(output, target)\n",
    "        loss.backward()\n",
    "        optimizer.step()\n",
    "        #Total train Loss\n",
    "        train_loss += loss.data[0]\n",
    "    return train_loss/len(train_loader.dataset)\n",
    "\n",
    "\n",
    "def test():\n",
    "    model.eval()\n",
    "    test_loss = 0\n",
    "    for data, target in test_loader:\n",
    "        data, target = data.cuda(), target.cuda()\n",
    "        data, target = Variable(data, volatile=True), Variable(target).float()\n",
    "        output = model(data)\n",
    "        test_loss += F.l1_loss(output, target).data[0] \n",
    "        \n",
    "    test_loss /= len(test_loader.dataset)\n",
    "#     print('\\nTest set: Average loss: {:.4f}'.format(test_loss))\n",
    "    return test_loss\n",
    "\n",
    "\n",
    "liveloss = PlotLosses()\n",
    "\n",
    "for epoch in range(1, epochs + 1):\n",
    "    train_loss = train(epoch)\n",
    "    test_loss = test()\n",
    "    liveloss.update({\n",
    "        'Test loss': test_loss,\n",
    "        'Train loss': train_loss,\n",
    "    })\n",
    "    liveloss.draw()\n",
    "\n",
    "print('Test loss: {}'.format(test_loss))"
   ]
  },
  {
   "cell_type": "code",
   "execution_count": null,
   "metadata": {
    "collapsed": true
   },
   "outputs": [],
   "source": []
  }
 ],
 "metadata": {
  "kernelspec": {
   "display_name": "Python [default]",
   "language": "python",
   "name": "python3"
  },
  "language_info": {
   "codemirror_mode": {
    "name": "ipython",
    "version": 3
   },
   "file_extension": ".py",
   "mimetype": "text/x-python",
   "name": "python",
   "nbconvert_exporter": "python",
   "pygments_lexer": "ipython3",
   "version": "3.6.3"
  }
 },
 "nbformat": 4,
 "nbformat_minor": 2
}
