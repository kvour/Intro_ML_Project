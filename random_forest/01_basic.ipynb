{
 "cells": [
  {
   "cell_type": "markdown",
   "metadata": {},
   "source": [
    "# Random Forest Method"
   ]
  },
  {
   "cell_type": "code",
   "execution_count": 2,
   "metadata": {},
   "outputs": [
    {
     "name": "stderr",
     "output_type": "stream",
     "text": [
      "/usr/local/lib/python2.7/site-packages/h5py/__init__.py:36: FutureWarning: Conversion of the second argument of issubdtype from `float` to `np.floating` is deprecated. In future, it will be treated as `np.float64 == np.dtype(float).type`.\n",
      "  from ._conv import register_converters as _register_converters\n"
     ]
    }
   ],
   "source": [
    "%load_ext autoreload\n",
    "%autoreload 2\n",
    "%matplotlib inline\n",
    "\n",
    "import matplotlib\n",
    "import matplotlib.pyplot as plt\n",
    "import seaborn as sbn # For nice looking plots.\n",
    "\n",
    "import numpy as np\n",
    "import scipy as sp\n",
    "import scipy.io\n",
    "\n",
    "import os\n",
    "import copy\n",
    "import time\n",
    "import datetime\n",
    "\n",
    "import tensorflow as tf\n",
    "\n",
    "import sklearn\n",
    "import sklearn.model_selection\n",
    "import sklearn.ensemble\n",
    "import sklearn.preprocessing\n",
    "\n",
    "np.set_printoptions(precision=2, suppress=True, linewidth=140)"
   ]
  },
  {
   "cell_type": "code",
   "execution_count": 4,
   "metadata": {},
   "outputs": [],
   "source": [
    "# Load the training and test data\n",
    "sarcos_inv = scipy.io.loadmat('../data/sarcos_inv.mat')['sarcos_inv']\n",
    "sarcos_inv_test = scipy.io.loadmat('../data/sarcos_inv_test.mat')['sarcos_inv_test']\n",
    "\n",
    "def split_data(data, timesteps=1):\n",
    "    X, Y = np.split(data, [21], axis=1)\n",
    "    \n",
    "    if timesteps == 1:\n",
    "        return X, Y\n",
    "    \n",
    "    Xres = np.zeros((X.shape[0] - timesteps + 1, 21 * timesteps))\n",
    "    Yres = Y[timesteps - 1:]\n",
    "    \n",
    "    for i in xrange(X.shape[0] - timesteps + 1):\n",
    "        Xres[i] = np.reshape(X[i:i+timesteps], -1)\n",
    "    \n",
    "    return Xres, Yres\n"
   ]
  },
  {
   "cell_type": "markdown",
   "metadata": {},
   "source": [
    "## Train random forest over many history steps"
   ]
  },
  {
   "cell_type": "code",
   "execution_count": 8,
   "metadata": {},
   "outputs": [
    {
     "name": "stdout",
     "output_type": "stream",
     "text": [
      "kfold split: 0\n",
      "kfold split: 1\n",
      "kfold split: 2\n",
      "kfold split: 3\n",
      "kfold split: 4\n",
      "kfold split: 5\n",
      "kfold split: 6\n",
      "kfold split: 7\n",
      "kfold split: 8\n",
      "kfold split: 9\n",
      "kfold split: 0\n",
      "kfold split: 1\n",
      "kfold split: 2\n",
      "kfold split: 3\n",
      "kfold split: 4\n",
      "kfold split: 5\n",
      "kfold split: 6\n",
      "kfold split: 7\n",
      "kfold split: 8\n",
      "kfold split: 9\n"
     ]
    }
   ],
   "source": [
    "# Training with different tree depth\n",
    "\n",
    "total_params = []\n",
    "\n",
    "for history_steps in [1, 3]:\n",
    "    params = []\n",
    "    for n_estimators in [5, 10, 15, 20]:\n",
    "        for max_depth in [5, 10, 15, 20, 25, 30]:\n",
    "            params.append({\n",
    "                'model': {\n",
    "                    'n_estimators': n_estimators,\n",
    "                    'max_depth': max_depth,\n",
    "                    'n_jobs': 7\n",
    "                },\n",
    "                'history_steps': history_steps\n",
    "            })\n",
    "\n",
    "    nfold = 10\n",
    "    kf = sklearn.model_selection.KFold(n_splits=nfold,shuffle=True)\n",
    "\n",
    "    # Model orders to be tested\n",
    "    RSSts = np.zeros((len(params), nfold))\n",
    "\n",
    "    X0, y0 = split_data(sarcos_inv, history_steps)\n",
    "    \n",
    "    for isplit, Ind in enumerate(kf.split(X0)):\n",
    "        print('kfold split: %d' % (isplit))\n",
    "\n",
    "        Itr, Its = Ind\n",
    "\n",
    "        xtr = X0[Itr]\n",
    "        ytr = y0[Itr]\n",
    "        xts = X0[Its]\n",
    "        yts = y0[Its]\n",
    "\n",
    "        for it, param in enumerate(params):\n",
    "            model = sklearn.ensemble.RandomForestRegressor(**param['model'])\n",
    "            model.fit(xtr, ytr)\n",
    "\n",
    "            yhat = model.predict(xts)\n",
    "            RSSts[it, isplit] = np.mean((yts - yhat)**2)\n",
    "\n",
    "    # Compute the l2 mean and normalized std right here.\n",
    "    for i, p in enumerate(params):\n",
    "        p['l2_mean'] = np.mean(RSSts, axis=1)[i]\n",
    "        p['l2_std'] = np.std(RSSts, axis=1)[i] / np.sqrt(nfold - 1)\n",
    "        \n",
    "    total_params += params\n",
    "            \n",
    "params = total_params"
   ]
  },
  {
   "cell_type": "code",
   "execution_count": null,
   "metadata": {},
   "outputs": [],
   "source": [
    "np.savez_compressed('rfr_kfold_result.npz', params=params)"
   ]
  },
  {
   "cell_type": "markdown",
   "metadata": {},
   "source": [
    "## Plotting"
   ]
  },
  {
   "cell_type": "code",
   "execution_count": 10,
   "metadata": {
    "scrolled": false
   },
   "outputs": [
    {
     "data": {
      "image/png": "[encoded data removed]",
      "text/plain": [
       "<matplotlib.figure.Figure at 0x112d65d90>"
      ]
     },
     "metadata": {},
     "output_type": "display_data"
    },
    {
     "name": "stdout",
     "output_type": "stream",
     "text": [
      "Min loss:\n",
      "{'history_steps': 1, 'model': {'n_estimators': 20, 'n_jobs': 7, 'max_depth': 30}, 'l2_std': 0.03293898981310702, 'l2_mean': 3.476671701511296}\n",
      "\n",
      "{'history_steps': 1, 'model': {'n_estimators': 20, 'n_jobs': 7, 'max_depth': 20}, 'l2_std': 0.04380312562012242, 'l2_mean': 3.505745083556394}\n",
      "{'history_steps': 1, 'model': {'n_estimators': 20, 'n_jobs': 7, 'max_depth': 30}, 'l2_std': 0.03293898981310702, 'l2_mean': 3.476671701511296}\n"
     ]
    },
    {
     "data": {
      "image/png": "[encoded data removed]",
      "text/plain": [
       "<matplotlib.figure.Figure at 0x10ad11dd0>"
      ]
     },
     "metadata": {},
     "output_type": "display_data"
    },
    {
     "name": "stdout",
     "output_type": "stream",
     "text": [
      "Min loss:\n",
      "{'history_steps': 3, 'model': {'n_estimators': 20, 'n_jobs': 7, 'max_depth': 30}, 'l2_std': 0.041767808720152504, 'l2_mean': 3.5843275890256985}\n",
      "\n",
      "{'history_steps': 3, 'model': {'n_estimators': 20, 'n_jobs': 7, 'max_depth': 25}, 'l2_std': 0.0503136238948671, 'l2_mean': 3.6114524948097335}\n",
      "{'history_steps': 3, 'model': {'n_estimators': 20, 'n_jobs': 7, 'max_depth': 30}, 'l2_std': 0.041767808720152504, 'l2_mean': 3.5843275890256985}\n"
     ]
    }
   ],
   "source": [
    "params = np.load('rfr_kfold_result.npz')['params']\n",
    "\n",
    "def plot_params(params, history_steps):    \n",
    "    fig, axes = plt.subplots(1, 1)\n",
    "    \n",
    "    for i, n_estimators in enumerate(np.unique([p['model']['n_estimators'] for p in params])):\n",
    "        ax = axes\n",
    "\n",
    "        pars = [p for p in params if p['model']['n_estimators'] == n_estimators]\n",
    "        x = [p['model']['max_depth'] for p in pars]\n",
    "        y = [p['l2_mean'] for p in pars]\n",
    "        yerr = [p['l2_std'] for p in pars]\n",
    "\n",
    "        ax.set_yscale(\"log\", nonposy='clip')\n",
    "\n",
    "        p = ax.plot(x, y, 'x-', label=\"#trees (b)=%d\" % (n_estimators))\n",
    "        ax.errorbar(x, y ,yerr=yerr, linewidth=1, color=p[0].get_color())\n",
    "\n",
    "    plt.xlabel('max tree depth (D)')\n",
    "    plt.ylabel('MSE loss')\n",
    "    plt.grid()\n",
    "    plt.legend()\n",
    "    plt.savefig('tree_timesteps_%d.pdf' % (history_steps))\n",
    "    plt.show()\n",
    "\n",
    "\n",
    "    l2_mean = [p['l2_mean'] for p in params]\n",
    "    l2_std = [p['l2_std'] for p in params]\n",
    "    min_idx = np.argmin(l2_mean)\n",
    "\n",
    "    print 'Min loss:'\n",
    "    print params[min_idx]\n",
    "    print ''\n",
    "\n",
    "    param_stdrule = [p for p in params if p['l2_mean'] < params[min_idx]['l2_mean'] + params[min_idx]['l2_std']]\n",
    "    for p in param_stdrule:\n",
    "        print p\n",
    "\n",
    "for history_steps in np.unique([p['history_steps'] for p in params]):\n",
    "    plot_params([p for p in params if p['history_steps'] == history_steps], history_steps)"
   ]
  },
  {
   "cell_type": "markdown",
   "metadata": {},
   "source": [
    "## Validation"
   ]
  },
  {
   "cell_type": "code",
   "execution_count": 32,
   "metadata": {},
   "outputs": [
    {
     "name": "stdout",
     "output_type": "stream",
     "text": [
      "Params: {'history_steps': 1, 'model': {'n_estimators': 20, 'n_jobs': 7, 'max_depth': 20}}\n",
      "MSE train: 0.6086837614727219\n",
      "MSE test:  0.6418024578797926\n",
      "\n",
      "Params: {'history_steps': 3, 'model': {'n_estimators': 20, 'n_jobs': 7, 'max_depth': 25}}\n",
      "MSE train: 0.5838223610370902\n",
      "MSE test:  17.814128855010146\n",
      "\n"
     ]
    }
   ],
   "source": [
    "best_params = [\n",
    "    {\n",
    "        'history_steps': 1,\n",
    "        'model': {\n",
    "            'n_estimators': 20, 'n_jobs': 7, 'max_depth': 20\n",
    "        },\n",
    "    }, {\n",
    "        'history_steps': 3,\n",
    "        'model': {\n",
    "            'n_estimators': 20, 'n_jobs': 7, 'max_depth': 25\n",
    "        },\n",
    "    }\n",
    "]\n",
    "\n",
    "for param in best_params:\n",
    "    xtr, ytr = split_data(sarcos_inv, param['history_steps'])\n",
    "    xts, yts = split_data(sarcos_inv_test, param['history_steps'])\n",
    "    \n",
    "    model = sklearn.ensemble.RandomForestRegressor(**param['model'])\n",
    "    model.fit(xtr, ytr)\n",
    "\n",
    "    yhat = model.predict(xtr)\n",
    "    MSE_tr = np.mean((ytr - yhat)**2)\n",
    "    \n",
    "    yhat = model.predict(xts)\n",
    "    MSE_ts = np.mean((yts - yhat)**2)\n",
    "    \n",
    "    print 'Params:', param\n",
    "    print 'MSE train:', MSE_tr\n",
    "    print 'MSE test: ', MSE_ts\n",
    "    print ''"
   ]
  },
  {
   "cell_type": "code",
   "execution_count": null,
   "metadata": {},
   "outputs": [],
   "source": []
  }
 ],
 "metadata": {
  "kernelspec": {
   "display_name": "Python 2",
   "language": "python",
   "name": "python2"
  },
  "language_info": {
   "codemirror_mode": {
    "name": "ipython",
    "version": 2
   },
   "file_extension": ".py",
   "mimetype": "text/x-python",
   "name": "python",
   "nbconvert_exporter": "python",
   "pygments_lexer": "ipython2",
   "version": "2.7.14"
  }
 },
 "nbformat": 4,
 "nbformat_minor": 2
}
